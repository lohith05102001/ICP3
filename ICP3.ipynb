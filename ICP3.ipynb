{
  "nbformat": 4,
  "nbformat_minor": 0,
  "metadata": {
    "colab": {
      "provenance": [],
      "authorship_tag": "ABX9TyM9uQCy/LZ0dQFmV7WigrX6",
      "include_colab_link": true
    },
    "kernelspec": {
      "name": "python3",
      "display_name": "Python 3"
    },
    "language_info": {
      "name": "python"
    }
  },
  "cells": [
    {
      "cell_type": "markdown",
      "metadata": {
        "id": "view-in-github",
        "colab_type": "text"
      },
      "source": [
        "<a href=\"https://colab.research.google.com/github/lohith05102001/ICP3/blob/main/ICP3.ipynb\" target=\"_parent\"><img src=\"https://colab.research.google.com/assets/colab-badge.svg\" alt=\"Open In Colab\"/></a>"
      ]
    },
    {
      "cell_type": "code",
      "execution_count": 1,
      "metadata": {
        "id": "qBu-mjnfm8WG"
      },
      "outputs": [],
      "source": [
        "import numpy as np"
      ]
    },
    {
      "cell_type": "code",
      "source": [
        "v=np.array([[1,2,3,4,5,6,7,8,9,10,11,12,13,14,15]],dtype='float32')"
      ],
      "metadata": {
        "id": "UMr2egGEzuFX"
      },
      "execution_count": 10,
      "outputs": []
    },
    {
      "cell_type": "code",
      "source": [
        "v=v.reshape(3,5)\n",
        "v"
      ],
      "metadata": {
        "colab": {
          "base_uri": "https://localhost:8080/"
        },
        "id": "M5rGcmd0zuB_",
        "outputId": "fd29f538-67c9-464a-d0e5-8a8076e50975"
      },
      "execution_count": 11,
      "outputs": [
        {
          "output_type": "execute_result",
          "data": {
            "text/plain": [
              "array([[ 1.,  2.,  3.,  4.,  5.],\n",
              "       [ 6.,  7.,  8.,  9., 10.],\n",
              "       [11., 12., 13., 14., 15.]], dtype=float32)"
            ]
          },
          "metadata": {},
          "execution_count": 11
        }
      ]
    },
    {
      "cell_type": "code",
      "source": [
        "print(v.shape)"
      ],
      "metadata": {
        "colab": {
          "base_uri": "https://localhost:8080/"
        },
        "id": "eIuylrSRzt_Q",
        "outputId": "d1861c74-f8c1-4335-ec35-a4a3c79f4318"
      },
      "execution_count": 12,
      "outputs": [
        {
          "output_type": "stream",
          "name": "stdout",
          "text": [
            "(3, 5)\n"
          ]
        }
      ]
    },
    {
      "cell_type": "code",
      "source": [
        "max_values = np.argmax(v, axis=1)\n",
        "v[np.arange(len(v)), max_values] = 0\n",
        "v"
      ],
      "metadata": {
        "colab": {
          "base_uri": "https://localhost:8080/"
        },
        "id": "Q2FrRqdYzt9E",
        "outputId": "e4e4995c-0b03-461a-bde9-4bdd92cd399f"
      },
      "execution_count": 13,
      "outputs": [
        {
          "output_type": "execute_result",
          "data": {
            "text/plain": [
              "array([[ 1.,  2.,  3.,  4.,  0.],\n",
              "       [ 6.,  7.,  8.,  9.,  0.],\n",
              "       [11., 12., 13., 14.,  0.]], dtype=float32)"
            ]
          },
          "metadata": {},
          "execution_count": 13
        }
      ]
    },
    {
      "cell_type": "code",
      "source": [
        "a=np.random.random((4,3)).astype(int)\n",
        "print(a)\n",
        "print(a.shape)\n",
        "type(a)\n",
        "print(a.dtype)"
      ],
      "metadata": {
        "colab": {
          "base_uri": "https://localhost:8080/"
        },
        "id": "xUu4DAxCzt68",
        "outputId": "9cd15953-7afe-4e07-dcc8-c697c44edab7"
      },
      "execution_count": 14,
      "outputs": [
        {
          "output_type": "stream",
          "name": "stdout",
          "text": [
            "[[0 0 0]\n",
            " [0 0 0]\n",
            " [0 0 0]\n",
            " [0 0 0]]\n",
            "(4, 3)\n",
            "int64\n"
          ]
        }
      ]
    },
    {
      "cell_type": "code",
      "source": [
        "matrix = np.array([[3,-2],\n",
        "                   [1,0]])\n",
        "\n",
        "# Calculate eigenvalues and right eigenvectors\n",
        "eigenvalues, eigenvectors = np.linalg.eig(matrix)\n",
        "\n",
        "# Print the results\n",
        "print(\"Eigenvalues:\")\n",
        "print(eigenvalues)\n",
        "print(\"\\nRight Eigenvectors (column-wise):\")\n",
        "print(eigenvectors)"
      ],
      "metadata": {
        "colab": {
          "base_uri": "https://localhost:8080/"
        },
        "id": "-EeoAsZLzt4f",
        "outputId": "d7c621bb-5389-4ec2-e974-e7c5701f4b76"
      },
      "execution_count": 15,
      "outputs": [
        {
          "output_type": "stream",
          "name": "stdout",
          "text": [
            "Eigenvalues:\n",
            "[2. 1.]\n",
            "\n",
            "Right Eigenvectors (column-wise):\n",
            "[[0.89442719 0.70710678]\n",
            " [0.4472136  0.70710678]]\n"
          ]
        }
      ]
    },
    {
      "cell_type": "code",
      "source": [
        "m1=np.array([[0,1,2],[3,4,5]])\n",
        "m1.diagonal()\n",
        "np.trace(m1)"
      ],
      "metadata": {
        "colab": {
          "base_uri": "https://localhost:8080/"
        },
        "id": "etWldSYXzt2N",
        "outputId": "6f14630a-b158-40c8-cb4e-93e45c8e2708"
      },
      "execution_count": 16,
      "outputs": [
        {
          "output_type": "execute_result",
          "data": {
            "text/plain": [
              "4"
            ]
          },
          "metadata": {},
          "execution_count": 16
        }
      ]
    },
    {
      "cell_type": "code",
      "source": [
        "import numpy as np\n",
        "\n",
        "def reshape(array, new_shape):\n",
        "\n",
        "\n",
        "  # Check if the new shape is compatible with the original data\n",
        "  if np.prod(array.shape) != np.prod(new_shape):\n",
        "    print(\"Error: Cannot reshape array. New shape is incompatible with the original data.\")\n",
        "    return None\n",
        "\n",
        "  # Reshape the array\n",
        "  reshaped_array = array.reshape(new_shape)\n",
        "\n",
        "  return reshaped_array\n",
        "\n",
        "# Example usage:\n",
        "original_array = np.array([[1,2],[3,4],[5,6]])\n",
        "new_shape = (2, 3)\n",
        "\n",
        "reshaped_array = reshape(original_array, new_shape)\n",
        "\n",
        "if reshaped_array is not None:\n",
        "  print(\"Original array:\\n\", original_array)\n",
        "  print(\"Reshaped array:\\n\", reshaped_array)"
      ],
      "metadata": {
        "colab": {
          "base_uri": "https://localhost:8080/"
        },
        "id": "wwt5pFPNztz8",
        "outputId": "582104e3-550f-4c59-fc66-8ffbadb6512b"
      },
      "execution_count": 17,
      "outputs": [
        {
          "output_type": "stream",
          "name": "stdout",
          "text": [
            "Original array:\n",
            " [[1 2]\n",
            " [3 4]\n",
            " [5 6]]\n",
            "Reshaped array:\n",
            " [[1 2 3]\n",
            " [4 5 6]]\n"
          ]
        }
      ]
    }
  ]
}